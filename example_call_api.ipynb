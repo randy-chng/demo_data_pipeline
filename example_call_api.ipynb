{
 "cells": [
  {
   "cell_type": "code",
   "execution_count": 1,
   "metadata": {},
   "outputs": [],
   "source": [
    "import requests\n",
    "import json"
   ]
  },
  {
   "cell_type": "markdown",
   "metadata": {},
   "source": [
    "#### Change ip accordingly"
   ]
  },
  {
   "cell_type": "code",
   "execution_count": 2,
   "metadata": {},
   "outputs": [],
   "source": [
    "def call_api(endpoint, params):\n",
    "    \n",
    "    ip = 'http://127.0.0.1:5000/api/v1/resources/'\n",
    "\n",
    "    try:\n",
    "        \n",
    "        resp = requests.get(\n",
    "            ip + endpoint,\n",
    "            params=params\n",
    "        )\n",
    "\n",
    "        if resp.status_code == 200:\n",
    "            return json.loads(resp.content)\n",
    "        else:\n",
    "            return resp.status_code\n",
    "        \n",
    "    except Exception as e:\n",
    "        \n",
    "        return e"
   ]
  },
  {
   "cell_type": "markdown",
   "metadata": {},
   "source": [
    "#### Test 1st endpoint"
   ]
  },
  {
   "cell_type": "code",
   "execution_count": 3,
   "metadata": {},
   "outputs": [
    {
     "name": "stdout",
     "output_type": "stream",
     "text": [
      "{\n",
      "    \"error_msg\": null,\n",
      "    \"input\": {\n",
      "        \"sql\": \"select * from category limit 3\"\n",
      "    },\n",
      "    \"results\": [\n",
      "        {\n",
      "            \"cat_files\": 0,\n",
      "            \"cat_id\": 1,\n",
      "            \"cat_pages\": 176,\n",
      "            \"cat_subcats\": 1,\n",
      "            \"cat_title\": \"Category_needed\"\n",
      "        },\n",
      "        {\n",
      "            \"cat_files\": 0,\n",
      "            \"cat_id\": 2,\n",
      "            \"cat_pages\": 64,\n",
      "            \"cat_subcats\": 64,\n",
      "            \"cat_title\": \"Articles_that_need_to_be_wikified\"\n",
      "        },\n",
      "        {\n",
      "            \"cat_files\": 0,\n",
      "            \"cat_id\": 4,\n",
      "            \"cat_pages\": 26,\n",
      "            \"cat_subcats\": 16,\n",
      "            \"cat_title\": \"South_Korea\"\n",
      "        }\n",
      "    ]\n",
      "}\n"
     ]
    }
   ],
   "source": [
    "result_a = call_api(\n",
    "    'query',\n",
    "    [('sql', 'select * from category limit 3')]\n",
    ")\n",
    "\n",
    "print(\n",
    "    json.dumps(\n",
    "        result_a,\n",
    "        indent=4,\n",
    "        default=str\n",
    "    )\n",
    ")"
   ]
  },
  {
   "cell_type": "markdown",
   "metadata": {},
   "source": [
    "#### Test 2nd endpoint"
   ]
  },
  {
   "cell_type": "code",
   "execution_count": 4,
   "metadata": {},
   "outputs": [
    {
     "name": "stdout",
     "output_type": "stream",
     "text": [
      "{\n",
      "    \"error_msg\": null,\n",
      "    \"input\": {\n",
      "        \"category\": \"American_people_stubs\"\n",
      "    },\n",
      "    \"results\": [\n",
      "        {\n",
      "            \"cat_id\": 29588,\n",
      "            \"cat_pages\": 8960,\n",
      "            \"cat_title\": \"American_people_stubs\",\n",
      "            \"page_touched_diff\": -20014029704.0,\n",
      "            \"pl_from_page_id\": 314736,\n",
      "            \"pl_from_page_title\": \"Milton_Wolff\",\n",
      "            \"pl_from_page_touched\": \"20180505045148\",\n",
      "            \"pl_page_id\": 11701,\n",
      "            \"pl_page_title\": \"1915\",\n",
      "            \"pl_page_touched\": \"20200519074852\"\n",
      "        }\n",
      "    ]\n",
      "}\n"
     ]
    }
   ],
   "source": [
    "result_b = call_api(\n",
    "    'outdated',\n",
    "    [('category', 'American_people_stubs')]\n",
    ")\n",
    "\n",
    "print(\n",
    "    json.dumps(\n",
    "        result_b,\n",
    "        indent=4,\n",
    "        default=str\n",
    "    )\n",
    ")"
   ]
  }
 ],
 "metadata": {
  "kernelspec": {
   "display_name": "Python 3",
   "language": "python",
   "name": "python3"
  },
  "language_info": {
   "codemirror_mode": {
    "name": "ipython",
    "version": 3
   },
   "file_extension": ".py",
   "mimetype": "text/x-python",
   "name": "python",
   "nbconvert_exporter": "python",
   "pygments_lexer": "ipython3",
   "version": "3.7.6"
  }
 },
 "nbformat": 4,
 "nbformat_minor": 2
}
