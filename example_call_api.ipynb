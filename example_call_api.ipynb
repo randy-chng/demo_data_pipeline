{
 "cells": [
  {
   "cell_type": "code",
   "execution_count": 1,
   "metadata": {},
   "outputs": [],
   "source": [
    "import requests\n",
    "import json"
   ]
  },
  {
   "cell_type": "code",
   "execution_count": 2,
   "metadata": {},
   "outputs": [],
   "source": [
    "def test_api(address, params):\n",
    "\n",
    "    response = requests.get(address, params=params)\n",
    "\n",
    "    if response.status_code == 200:\n",
    "        return response.content\n",
    "    else:\n",
    "        return response.status_code"
   ]
  },
  {
   "cell_type": "markdown",
   "metadata": {},
   "source": [
    "#### Change api_ip accordingly"
   ]
  },
  {
   "cell_type": "code",
   "execution_count": 3,
   "metadata": {},
   "outputs": [
    {
     "data": {
      "text/plain": [
       "{'error_msg': None,\n",
       " 'input': {'sql': 'select * from category limit 3'},\n",
       " 'results': [{'cat_files': 0,\n",
       "   'cat_id': 1,\n",
       "   'cat_pages': 176,\n",
       "   'cat_subcats': 1,\n",
       "   'cat_title': 'Category_needed'},\n",
       "  {'cat_files': 0,\n",
       "   'cat_id': 2,\n",
       "   'cat_pages': 64,\n",
       "   'cat_subcats': 64,\n",
       "   'cat_title': 'Articles_that_need_to_be_wikified'},\n",
       "  {'cat_files': 0,\n",
       "   'cat_id': 4,\n",
       "   'cat_pages': 26,\n",
       "   'cat_subcats': 16,\n",
       "   'cat_title': 'South_Korea'}]}"
      ]
     },
     "execution_count": 3,
     "metadata": {},
     "output_type": "execute_result"
    }
   ],
   "source": [
    "api_ip = 'http://127.0.0.1:5000/api/v1/resources/'\n",
    "\n",
    "api_a = api_ip + 'query'\n",
    "api_a_param = [('sql', 'select * from category limit 3')]\n",
    "\n",
    "result_a = test_api(api_a, api_a_param)\n",
    "json.loads(result_a)"
   ]
  },
  {
   "cell_type": "code",
   "execution_count": 4,
   "metadata": {},
   "outputs": [
    {
     "data": {
      "text/plain": [
       "{'error_msg': None,\n",
       " 'input': {'category': 'American_people_stubs'},\n",
       " 'results': [{'cat_id': 29588,\n",
       "   'cat_pages': 8960,\n",
       "   'cat_title': 'American_people_stubs',\n",
       "   'page_touched_diff': -20014029704.0,\n",
       "   'pl_from_page_id': 314736,\n",
       "   'pl_from_page_title': 'Milton_Wolff',\n",
       "   'pl_from_page_touched': '20180505045148',\n",
       "   'pl_page_id': 11701,\n",
       "   'pl_page_title': '1915',\n",
       "   'pl_page_touched': '20200519074852'}]}"
      ]
     },
     "execution_count": 4,
     "metadata": {},
     "output_type": "execute_result"
    }
   ],
   "source": [
    "api_b = api_ip + 'outdated'\n",
    "api_b_param = [('category', 'American_people_stubs')]\n",
    "\n",
    "result_b = test_api(api_b, api_b_param)\n",
    "json.loads(result_b)"
   ]
  }
 ],
 "metadata": {
  "kernelspec": {
   "display_name": "Python 3",
   "language": "python",
   "name": "python3"
  },
  "language_info": {
   "codemirror_mode": {
    "name": "ipython",
    "version": 3
   },
   "file_extension": ".py",
   "mimetype": "text/x-python",
   "name": "python",
   "nbconvert_exporter": "python",
   "pygments_lexer": "ipython3",
   "version": "3.6.4"
  }
 },
 "nbformat": 4,
 "nbformat_minor": 2
}
